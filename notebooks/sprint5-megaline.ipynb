{
 "cells": [
  {
   "cell_type": "markdown",
   "metadata": {},
   "source": [
    "----------"
   ]
  },
  {
   "cell_type": "markdown",
   "metadata": {},
   "source": [
    "------"
   ]
  },
  {
   "cell_type": "markdown",
   "metadata": {
    "id": "3rYiDeEH0q0f"
   },
   "source": [
    "# ¿Cuál es la mejor tarifa?\n",
    "\n",
    "Trabajas como analista para el operador de telecomunicaciones Megaline. La empresa ofrece a sus clientes dos tarifas de prepago, Surf y Ultimate. El departamento comercial quiere saber cuál de las tarifas genera más ingresos para poder ajustar el presupuesto de publicidad.\n",
    "\n",
    "Vas a realizar un análisis preliminar de las tarifas basado en una selección de clientes relativamente pequeña. Tendrás los datos de 500 clientes de Megaline: quiénes son los clientes, de dónde son, qué tarifa usan, así como la cantidad de llamadas que hicieron y los mensajes de texto que enviaron en 2018. Tu trabajo es analizar el comportamiento de los clientes y determinar qué tarifa de prepago genera más ingresos."
   ]
  },
  {
   "cell_type": "markdown",
   "metadata": {
    "id": "MQi4IPy70q0y"
   },
   "source": [
    "## Inicialización"
   ]
  },
  {
   "cell_type": "code",
   "execution_count": null,
   "metadata": {
    "id": "MtYIuBxu0q0z"
   },
   "outputs": [],
   "source": [
    "# 1.1 Inicializacion\n",
    "import pandas as pd\n",
    "import numpy as np\n",
    "from scipy import stats as st\n",
    "import matplotlib.pyplot as plt\n",
    "\n"
   ]
  },
  {
   "cell_type": "markdown",
   "metadata": {
    "id": "4ysWWC5i0q00"
   },
   "source": [
    "## Cargar datos"
   ]
  },
  {
   "cell_type": "code",
   "execution_count": null,
   "metadata": {
    "id": "CCqPW7rS0q01"
   },
   "outputs": [],
   "source": [
    "# 1.2 Carga de datos\n",
    "\n",
    "users = pd.read_csv('/datasets/megaline_users.csv')\n",
    "calls = pd.read_csv('/datasets/megaline_calls.csv')\n",
    "messages = pd.read_csv('/datasets/megaline_messages.csv')\n",
    "internet = pd.read_csv('/datasets/megaline_internet.csv')\n",
    "plans = pd.read_csv('/datasets/megaline_plans.csv')\n",
    "\n"
   ]
  },
  {
   "cell_type": "markdown",
   "metadata": {
    "id": "ohBhimvH0q01"
   },
   "source": [
    "## Tarifas"
   ]
  },
  {
   "cell_type": "code",
   "execution_count": null,
   "metadata": {
    "id": "GptqP3Q40q02"
   },
   "outputs": [],
   "source": [
    "print('USERS\\n', users.shape); users.info(); print(users.head(3), '\\n')\n",
    "print('CALLS\\n', calls.shape); calls.info(); print(calls.head(3), '\\n')\n",
    "print('MESSAGES\\n', messages.shape); messages.info(); print(messages.head(3), '\\n')\n",
    "print('INTERNET\\n', internet.shape); internet.info(); print(internet.head(3), '\\n')\n",
    "print('PLANS\\n', plans.shape); plans.info(); print(plans.head(3), '\\n')"
   ]
  },
  {
   "cell_type": "code",
   "execution_count": null,
   "metadata": {
    "id": "64xzjwL70q02"
   },
   "outputs": [],
   "source": [
    "# 1.4 muestra de informacion\n",
    "\n",
    "print('INFO PLANS:')\n",
    "plans.info()\n",
    "print('\\nHEAD PLANS:')\n",
    "print(plans.head(10))\n",
    "\n"
   ]
  },
  {
   "cell_type": "markdown",
   "metadata": {
    "id": "mEc_3_hs0q02"
   },
   "source": [
    "Para users las columnas de reg_date y churn_date estan como objet, se sonvertiran a datetime:churn_date tiene muchos faltantes (quedaran como NaT). user_id parece PK. plan enlaza con plans.plans_name.\n",
    "calls en la columna de call_date es objet, datetime.duration en minutos (float), se aplicara la regla del redondeo por llamada(ceil). se verificaranno negativos y se filtrara para 2018, se agregara columna month.\n",
    "messages en la columna de message_date es objet, datetime. se ocntara por usuario-mes. se agregara month.\n",
    "internet en la columna de session_date es objet datetime.mb_used(float) debe ser ≥ 0. se sumaran los MB por usuario-mes y luego redondear mensual a GB: ceil(total_mb/1024). tambien se agregara month.\n",
    "plans las unidades tienen tipos de datos correctos, solo los limites en MB y cobro extra por GB, segun la cuota mensual en USD, se uniran con plan_name - users plan.\n",
    "\n",
    "en general la conversion de fecha datetime(reg_date, churn_date, call_date, message_date, session_date) y que NaN se convertira a NaT en chrun date, para el rango temporal se confirmara que todas las fechas caen en 2018, se redondearan llamadas y datos tras sumar MB/mes para las validaciones se revisara que no haya negativos en dutation y mb_used, para referencias todos los user_id en calls/messages/internet existen en users, todos los plan estan en plans. para los duplicados se revisara unicidad razonable de ID en cada tabla, por ultimo la preparacion para la agregacion de columna month(año-mes) en calls/messages/internet."
   ]
  },
  {
   "cell_type": "markdown",
   "metadata": {
    "collapsed": false,
    "id": "R3C05i1l0q03",
    "jupyter": {
     "outputs_hidden": false
    }
   },
   "source": [
    "## Corregir datos"
   ]
  },
  {
   "cell_type": "code",
   "execution_count": null,
   "metadata": {
    "id": "Y7SVmjGn0q03"
   },
   "outputs": [],
   "source": [
    "# 1.5 Correguir datos\n",
    "\n",
    "users['reg_date'] = pd.to_datetime(users['reg_date'], errors='coerce')\n",
    "users['churn_date'] = pd.to_datetime(users['churn_date'], errors='coerce')\n",
    "calls['call_date'] = pd.to_datetime(calls['call_date'], errors='coerce')\n",
    "messages['message_date'] = pd.to_datetime(messages['message_date'], errors='coerce')\n",
    "internet['session_date'] = pd.to_datetime(internet['session_date'], errors='coerce')\n",
    "\n",
    "# mantener solamente registros del año 2018\n",
    "\n",
    "users = users[users['reg_date'].dt.year == 2018]\n",
    "calls = calls[calls['call_date'].dt.year == 2018]\n",
    "messages = messages[messages['message_date'].dt.year == 2018]\n",
    "internet = internet[internet['session_date'].dt.year == 2018]\n",
    "\n",
    "# eliminar valores irrreales en medidas de uso\n",
    "\n",
    "calls = calls[calls['duration'] >= 0]\n",
    "internet = internet[internet['mb_used'] >= 0]\n",
    "\n",
    "#reindexar tras filtrados\n",
    "\n",
    "for df in (users, calls, messages, internet):\n",
    "  \n",
    "  df.reset_index(drop=True, inplace=True)\n",
    "\n",
    "\n"
   ]
  },
  {
   "cell_type": "markdown",
   "metadata": {
    "id": "LJir7bml0q03"
   },
   "source": [
    "## Enriquecer los datos"
   ]
  },
  {
   "cell_type": "code",
   "execution_count": null,
   "metadata": {
    "id": "gfcIEuXV0q04"
   },
   "outputs": [],
   "source": [
    "# Mes (1-12) para agregar por usuario-mes\n",
    "\n",
    "calls['month'] = calls['call_date'].dt.month\n",
    "messages['month'] = messages['message_date'].dt.month\n",
    "internet['month'] = internet['session_date'].dt.month\n",
    "\n",
    "# Minutos redondeados por llamada, segun reglas del plan\n",
    "calls['minutes_ceil'] = np.ceil(calls['duration']).astype(int)\n",
    "\n",
    "# Ayuda para facturacion de datos: GB incluidos \n",
    "\n",
    "plans['gb_included'] = plans['mb_per_month_included'] / 1024.0\n",
    "\n",
    "# Region para uso en la hipotesis\n",
    "users['is_ny_nj'] = users['city'].str.contains('NY-NJ', case=False, na=False)\n",
    "\n",
    "print(plans.columns.tolist())\n"
   ]
  },
  {
   "cell_type": "markdown",
   "metadata": {
    "id": "1n2X6WXf0q04"
   },
   "source": [
    "## Usuarios/as"
   ]
  },
  {
   "cell_type": "code",
   "execution_count": null,
   "metadata": {
    "id": "2NgjWFqx0q05"
   },
   "outputs": [],
   "source": [
    "# 1.7 usuarios info general\n",
    "\n",
    "print('INFO USERS:')\n",
    "users.info()\n"
   ]
  },
  {
   "cell_type": "code",
   "execution_count": null,
   "metadata": {
    "id": "1IN1L9uh0q05"
   },
   "outputs": [],
   "source": [
    "# 1.7 usuarios muestra de datos\n",
    "\n",
    "print('HEAD USERS:')\n",
    "print(users.head(10))\n",
    "\n"
   ]
  },
  {
   "cell_type": "markdown",
   "metadata": {
    "id": "dCZoUq4f0q06"
   },
   "source": [
    "Se ve que las fechas reg_date esta en datetime; churn_date correctamente como datetime NaT para faltantes, los tipos user_id int, age int, plan y city como texto, hace falta reforsar un poco mas la columna de city (is ny_nj) para poder considerar bien todas las opciones sin generar algun error en el analisis de datos"
   ]
  },
  {
   "cell_type": "markdown",
   "metadata": {
    "id": "BX5FQh_I0q06"
   },
   "source": [
    "### Corregir los datos"
   ]
  },
  {
   "cell_type": "code",
   "execution_count": null,
   "metadata": {
    "id": "yUqX-K0C0q07"
   },
   "outputs": [],
   "source": [
    "# 1.7.1. Corregir los datos (users)\n",
    "\n",
    "# Normalizar y validar plan\n",
    "\n",
    "users['plan'] = users['plan'].str.strip().str.lower()\n",
    "plans['plan_name'] = plans['plan_name'].str.strip().str.lower()\n",
    "valid_plans = set(plans['plan_name'])\n",
    "rows_before = len(users)\n",
    "users = users[users['plan'].isin(valid_plans)]\n",
    "removed_invalid_plans = rows_before - len(users)\n",
    "\n",
    "# Eliminar duplicados por user_id\n",
    "\n",
    "rows_before = len(users)\n",
    "users = users.drop_duplicates(subset='user_id', keep='first')\n",
    "removed_dupes = rows_before - len(users)\n",
    "\n",
    "# Coherencia de fechas: churn_date >= reg_date \n",
    "\n",
    "bad_dates_mask = users['churn_date'].notna() & (users['churn_date'] < users['reg_date'])\n",
    "fixed_bad_dates = int(bad_dates_mask.sum())\n",
    "users.loc[bad_dates_mask, 'churn_date'] = pd.NaT\n",
    "\n",
    "print('Planes inválidos eliminados:', removed_invalid_plans)\n",
    "print('Duplicados user_id eliminados:', removed_dupes)\n",
    "print('Fechas incoherentes corregidas (churn<reg):', fixed_bad_dates)\n",
    "\n",
    "\n"
   ]
  },
  {
   "cell_type": "markdown",
   "metadata": {
    "id": "ycwuARJp0q07"
   },
   "source": [
    "### Enriquecer los datos"
   ]
  },
  {
   "cell_type": "code",
   "execution_count": null,
   "metadata": {
    "id": "iq0AaBS90q08"
   },
   "outputs": [],
   "source": [
    "# 1.7.2. Enriquecer los datos (users)\n",
    "\n",
    "# para región NY–NJ\n",
    "ny_nj_pattern = r'NY-NJ|New York[-–]Newark[-–]Jersey City'\n",
    "users['is_ny_nj'] = users['city'].str.contains(ny_nj_pattern, case=False, na=False)\n",
    "\n",
    "print('NY–NJ marcados:', int(users['is_ny_nj'].sum()))"
   ]
  },
  {
   "cell_type": "markdown",
   "metadata": {
    "id": "o7MeKCid0q08"
   },
   "source": [
    "## Llamadas"
   ]
  },
  {
   "cell_type": "code",
   "execution_count": null,
   "metadata": {
    "id": "6dDlnoDm0q08"
   },
   "outputs": [],
   "source": [
    "# Llamadas -  informacion general y muestra\n",
    "\n",
    "print('INFO CALLS:')\n",
    "calls.info()\n"
   ]
  },
  {
   "cell_type": "code",
   "execution_count": null,
   "metadata": {
    "id": "kuh1vlNB0q09"
   },
   "outputs": [],
   "source": [
    "print ('HEAD CALLS:')\n",
    "print(calls.head(10))\n",
    "\n"
   ]
  },
  {
   "cell_type": "markdown",
   "metadata": {
    "id": "DOAxYJSx0q09"
   },
   "source": [
    "la estructura de datos y los tipos son coherentes con lo que indican, las fechas ya estan en formatos y filtrados para el año 2018, solo se detecta la necesidad de posibles chequeos adicionales por id's unicos en llamadas, distribucion en meses 1 a 12 y llamadas muy largas solo como diagnostico."
   ]
  },
  {
   "cell_type": "markdown",
   "metadata": {
    "id": "S7hzxmbX0q0-"
   },
   "source": [
    "### Corregir los datos"
   ]
  },
  {
   "cell_type": "code",
   "execution_count": null,
   "metadata": {
    "id": "S2r8xA4f0q0-"
   },
   "outputs": [],
   "source": [
    "# Eliminar dupllicados por ID's\n",
    "\n",
    "calls = calls.drop_duplicates(subset='id', keep='first').copy()\n",
    "\n",
    "# Asegurar regla de minutos facturados: ceil si duration>0, si duration==0 entonces 0\n",
    "\n",
    "calls['minutes_ceil'] = np.where(calls['duration'] > 0, np.ceil(calls['duration']), 0).astype(int)\n",
    "\n",
    "# Asegurar 'month' coherente con la fecha\n",
    "\n",
    "calls['mont'] = calls['call_date'].dt.month\n",
    "\n",
    "# Mantener solo registros con user_id valido (existente en user)\n",
    "\n",
    "valid_user_ids = set(users['user_id'])\n",
    "calls = calls[calls['user_id'].isin(valid_user_ids)].copy()\n"
   ]
  },
  {
   "cell_type": "markdown",
   "metadata": {
    "id": "KrMgTrlG0q0_"
   },
   "source": [
    "### Enriquecer los datos"
   ]
  },
  {
   "cell_type": "code",
   "execution_count": null,
   "metadata": {
    "id": "iZ1avpA_0q0_"
   },
   "outputs": [],
   "source": [
    "\n",
    "# Contador de llamadas \n",
    "\n",
    "calls['call_count'] = 1\n",
    "\n",
    "# Identificador de año-mes (YYYY-MM)\n",
    "\n",
    "calls['year_month'] = calls['call_date'].dt.to_period('M').astype(str)"
   ]
  },
  {
   "cell_type": "markdown",
   "metadata": {
    "id": "mOUZSi180q0_"
   },
   "source": [
    "## Mensajes"
   ]
  },
  {
   "cell_type": "code",
   "execution_count": null,
   "metadata": {
    "id": "R-bYJpdV0q1A"
   },
   "outputs": [],
   "source": [
    "\n",
    "print('INFO MESSAGE:')\n",
    "messages.info()\n"
   ]
  },
  {
   "cell_type": "code",
   "execution_count": null,
   "metadata": {
    "id": "mCEl2iGE0q1A"
   },
   "outputs": [],
   "source": [
    "\n",
    "print('INFO MESSAGES:')\n",
    "print(messages.head(10))\n"
   ]
  },
  {
   "cell_type": "markdown",
   "metadata": {
    "id": "04xDj7KH0q1A"
   },
   "source": [
    "En general se ve que la estructura y tipos de datos ya estan corregidos, no hay valores nulos y las fechas tambien son tipo datetime, se puede verificar si no exiten duplicados en user_id y tambien se puede asegurar que los user_id existen en user, se añadira un contador para la navegacion de usuario-mes, tambien se creara una columna year_month para agrupar con los demas DF.\n"
   ]
  },
  {
   "cell_type": "markdown",
   "metadata": {
    "id": "Sprfak900q1B"
   },
   "source": [
    "### Corregir los datos"
   ]
  },
  {
   "cell_type": "code",
   "execution_count": null,
   "metadata": {
    "id": "vsllvkoa0q1B"
   },
   "outputs": [],
   "source": [
    "# Eliminar duplicados por 'id'\n",
    "\n",
    "messages = messages.drop_duplicates(subset='id', keep='first').copy()\n",
    "\n",
    "# mantener solo registros con User_id valido\n",
    "\n",
    "valid_user_ids = set(users['user_id'])\n",
    "messages = messages[messages['user_id'].isin(valid_user_ids)].copy()\n",
    "\n",
    "#asegurar month coherente con la fecha\n",
    "\n",
    "messages['month'] = messages['message_date'].dt.month"
   ]
  },
  {
   "cell_type": "markdown",
   "metadata": {
    "id": "HvLid7iD0q1B"
   },
   "source": [
    "### Enriquecer los datos"
   ]
  },
  {
   "cell_type": "code",
   "execution_count": null,
   "metadata": {
    "id": "zYEXZac10q1C"
   },
   "outputs": [],
   "source": [
    "# Enriquecer datos\n",
    "\n",
    "messages['msg_count'] = 1\n",
    "messages['year_month'] = messages['message_date'].dt.to_period('M').astype(str)\n"
   ]
  },
  {
   "cell_type": "markdown",
   "metadata": {
    "id": "bStkaxn40q1C"
   },
   "source": [
    "## Internet"
   ]
  },
  {
   "cell_type": "code",
   "execution_count": null,
   "metadata": {
    "id": "e-Uz5qyn0q1C"
   },
   "outputs": [],
   "source": [
    "\n",
    "# print('INFO INTERNET:')\n",
    "internet.info()\n"
   ]
  },
  {
   "cell_type": "code",
   "execution_count": null,
   "metadata": {
    "id": "9r3x_XLw0q1C"
   },
   "outputs": [],
   "source": [
    "\n",
    "print('INFO INTERNET')\n",
    "print(internet.head(10))\n"
   ]
  },
  {
   "cell_type": "markdown",
   "metadata": {
    "id": "EzOG5ik30q1D"
   },
   "source": [
    "la estructura de las filas se ve bien, n ose ven nulos, las fechas tambien ya estan corregidas, para los valores de mb_used se asegura que no haya valores negativos y lo clave para la facturacion es el redondeo mensual de GB, lo que se pudiera mejorar es eliminar los duplicados en id, mantener solo user_id presentes en user, y quizas un double check de no negativos en mb por usuario-mes."
   ]
  },
  {
   "cell_type": "markdown",
   "metadata": {
    "id": "yA0tkPFg0q1D"
   },
   "source": [
    "### Corregir los datos"
   ]
  },
  {
   "cell_type": "code",
   "execution_count": null,
   "metadata": {
    "id": "zVeanzdd0q1E"
   },
   "outputs": [],
   "source": [
    "# Eliminar los duplicados de id\n",
    "\n",
    "internet = internet.drop_duplicates(subset='id', keep='first').copy()\n",
    "\n",
    "# Mantener solo registros con user_id valido\n",
    "\n",
    "valid_user_ids = set(users['user_id'])\n",
    "internet = internet[internet['user_id'].isin(valid_user_ids)].copy()\n",
    "\n",
    "# Asegurar no-negativos en mb_used\n",
    "\n",
    "internet = internet[internet['mb_used'] >= 0].copy()\n",
    "\n",
    "# Asegurar 'month' coherente con la fecha\n",
    "\n",
    "internet['month'] = internet['session_date'].dt.month"
   ]
  },
  {
   "cell_type": "markdown",
   "metadata": {
    "id": "e8_mLF4a0q1E"
   },
   "source": [
    "### Enriquecer los datos"
   ]
  },
  {
   "cell_type": "code",
   "execution_count": null,
   "metadata": {
    "id": "ESiYPIEK0q1E"
   },
   "outputs": [],
   "source": [
    "# Identificador de año-mes (YYY-MM) para agregaciones mensuales\n",
    "\n",
    "internet['year_month'] = internet['session_date'].dt.to_period('M').astype(str)\n"
   ]
  },
  {
   "cell_type": "markdown",
   "metadata": {
    "id": "3UA2cqIW0q1E"
   },
   "source": [
    "## Estudiar las condiciones de las tarifas"
   ]
  },
  {
   "cell_type": "code",
   "execution_count": null,
   "metadata": {
    "id": "i409op8p0q1F"
   },
   "outputs": [],
   "source": [
    "# Condiciones de tarifas\n",
    "\n",
    "print('CONDICIONES DE TARIFAS:')\n",
    "print(plans[['plan_name',\n",
    "             'usd_monthly_pay',\n",
    "             'minutes_included',\n",
    "             'messages_included',\n",
    "             'mb_per_month_included',\n",
    "             'gb_included',\n",
    "             'usd_per_minute',\n",
    "             'usd_per_message',\n",
    "             'usd_per_gb']])\n"
   ]
  },
  {
   "cell_type": "code",
   "execution_count": null,
   "metadata": {
    "id": "A332cedB0q1G"
   },
   "outputs": [],
   "source": [
    "# Numero de llamadas hechas por cada usuario al mes\n",
    "\n",
    "calls_per_month = (calls.groupby(['user_id', 'year_month'], as_index=False).agg(calls_count=('id', 'count')))\n",
    "\n"
   ]
  },
  {
   "cell_type": "code",
   "execution_count": null,
   "metadata": {
    "id": "aw2cmuql0q1G"
   },
   "outputs": [],
   "source": [
    "# Minutos usados por cada usuario al mes\n",
    "\n",
    "minutes_per_month = (calls.groupby(['user_id', 'year_month'], as_index=False).agg(minutes_sum=('minutes_ceil', 'sum')))\n"
   ]
  },
  {
   "cell_type": "code",
   "execution_count": null,
   "metadata": {
    "id": "CcQvNHn60q1G"
   },
   "outputs": [],
   "source": [
    "# Numero de mensajes enviados por cada usuario al mes\n",
    "\n",
    "messages_per_month = (messages.groupby(['user_id', 'year_month'], as_index=False).agg(sms_count=('id', 'count')))\n"
   ]
  },
  {
   "cell_type": "code",
   "execution_count": null,
   "metadata": {
    "id": "H1AqN2eG0q1H"
   },
   "outputs": [],
   "source": [
    "# Volumen del trafico de internet usado por cada usuario al mes (MB)\n",
    "\n",
    "internet_per_month = (internet.groupby(['user_id', 'year_month'], as_index=False).agg(mb_sum=('mb_used', 'sum')))"
   ]
  },
  {
   "cell_type": "code",
   "execution_count": null,
   "metadata": {
    "id": "FW99ykyf0q1H"
   },
   "outputs": [],
   "source": [
    "# Fusionar agregados por user_id + yar_month\n",
    "\n",
    "usage_monthly = calls_per_month.merge(minutes_per_month, on=['user_id','year_month'], how='outer')\n",
    "usage_monthly = usage_monthly.merge(messages_per_month, on=['user_id','year_month'], how='outer')\n",
    "usage_monthly = usage_monthly.merge(internet_per_month, on=['user_id','year_month'], how='outer')\n",
    "\n",
    "# Rellenar faltantes de conteos/sumas con 0 \n",
    "\n",
    "usage_monthly[['calls_count','minutes_sum','sms_count','mb_sum']] = (\n",
    "    usage_monthly[['calls_count','minutes_sum','sms_count','mb_sum']].fillna(0))\n"
   ]
  },
  {
   "cell_type": "code",
   "execution_count": null,
   "metadata": {
    "id": "0dNOXHag0q1H"
   },
   "outputs": [],
   "source": [
    "# Añadir la información de la tarifa\n",
    "\n",
    "usage_monthly = usage_monthly.merge(users[['user_id','plan','is_ny_nj']], on='user_id', how='left'\n",
    ").merge(plans, left_on='plan', right_on='plan_name', how='left')"
   ]
  },
  {
   "cell_type": "code",
   "execution_count": null,
   "metadata": {
    "id": "5FGCf_c60q1I"
   },
   "outputs": [],
   "source": [
    "# Calcula el ingreso mensual para cada usuario\n",
    "\n",
    "# Redondeo mensual de datos a GB\n",
    "\n",
    "usage_monthly['gb_billed'] = np.ceil(usage_monthly['mb_sum'] / 1024.0).astype(int)\n",
    "\n",
    "# Excedentes\n",
    "\n",
    "usage_monthly['min_over'] = np.clip(usage_monthly['minutes_sum'] - usage_monthly['minutes_included'], 0, None)\n",
    "usage_monthly['sms_over'] = np.clip(usage_monthly['sms_count']  - usage_monthly['messages_included'], 0, None)\n",
    "usage_monthly['gb_over']  = np.clip(usage_monthly['gb_billed']  - usage_monthly['gb_included'], 0, None)\n",
    "\n",
    "# Ingreso mensual\n",
    "\n",
    "usage_monthly['revenue_usd'] = (usage_monthly['usd_monthly_pay']\n",
    "    + usage_monthly['min_over'] * usage_monthly['usd_per_minute']\n",
    "    + usage_monthly['sms_over'] * usage_monthly['usd_per_message']\n",
    "    + usage_monthly['gb_over']  * usage_monthly['usd_per_gb'])\n"
   ]
  },
  {
   "cell_type": "code",
   "execution_count": null,
   "metadata": {},
   "outputs": [],
   "source": [
    "usage_monthly"
   ]
  },
  {
   "cell_type": "markdown",
   "metadata": {
    "id": "-jtyHzJb0q1I"
   },
   "source": [
    "## Estudio el comportamiento de usuario"
   ]
  },
  {
   "cell_type": "markdown",
   "metadata": {
    "id": "vtW4CJEe0q1J"
   },
   "source": [
    "### Llamadas"
   ]
  },
  {
   "cell_type": "code",
   "execution_count": null,
   "metadata": {
    "id": "Jf5v5--k0q1J"
   },
   "outputs": [],
   "source": [
    "# Duracion promedio de llamadas por plan y por mes\n",
    "\n",
    "avg_minutes = (usage_monthly.groupby(['year_month', 'plan'], as_index=False)['minutes_sum'].mean())\n",
    "avg_minutes_pivot = avg_minutes.pivot(index='year_month', columns='plan', values='minutes_sum').fillna(0)\n",
    "ax = avg_minutes_pivot.plot(kind='bar', figsize=(12,5))\n",
    "ax.set_ylabel('Minutos por usuario (promedio)')\n",
    "ax.set_title('Duracion promedio de llamadas por plan y por mes')\n",
    "plt.xticks(rotation=45)\n",
    "plt.tight_layout()\n",
    "plt.show()\n"
   ]
  },
  {
   "cell_type": "code",
   "execution_count": null,
   "metadata": {
    "id": "QoLqW1S_0q1J"
   },
   "outputs": [],
   "source": [
    "# Histograma de minutos mensuales por plan\n",
    "\n",
    "plt.figure(figsize=(10,5))\n",
    "for p in ['surf', 'ultimate']:\n",
    "    subset = usage_monthly.loc[usage_monthly['plan']==p, 'minutes_sum']\n",
    "    plt.hist(subset, bins=30, alpha=0.6, label=p)\n",
    "plt.xlabel('Minutos mensuales (suma)')\n",
    "plt.ylabel('Frecuencia')\n",
    "plt.title('Distribucion de minutos mensuales por plan')\n",
    "plt.legend()\n",
    "plt.tight_layout()\n",
    "plt.show()\n"
   ]
  },
  {
   "cell_type": "code",
   "execution_count": null,
   "metadata": {
    "id": "oSndbAnt0q1K"
   },
   "outputs": [],
   "source": [
    "# Media, varianza y desviacion estandar de la duracion mensual de llamadas por plan\n",
    "\n",
    "calls_stats = (usage_monthly.groupby('plan')['minutes_sum']\n",
    "               .agg(mean='mean', var='var', std='std', count='count'))\n",
    "print('Estadisticos de minutos mensuales por plan:\\n', calls_stats, '\\n')\n",
    "\n"
   ]
  },
  {
   "cell_type": "code",
   "execution_count": null,
   "metadata": {
    "id": "nZzoRUKc0q1K"
   },
   "outputs": [],
   "source": [
    "# Diagrama de caja de minutos mensuales por plan\n",
    "\n",
    "usage_monthly.boxplot(column='minutes_sum', by='plan', figsize=(8,5))\n",
    "plt.title('Distribucion de minutos mensuales por plan')\n",
    "plt.suptitle('')\n",
    "plt.xlabel('plan')\n",
    "plt.ylabel('Minutos mensuales (suma)')\n",
    "plt.tight_layout()\n",
    "plt.show()\n"
   ]
  },
  {
   "cell_type": "markdown",
   "metadata": {
    "id": "r627zBO50q1K"
   },
   "source": [
    "se verifica que el promedio mensual casi identico, 1.7 min en promedio, la dispersion similar, implicacion de tarifa, ambos promedios estan por debajo de los 500 min incluidos en Surf y muy por debajo de los 3K en Ultimate, casi sin excedentes por minutos en ambos planes."
   ]
  },
  {
   "cell_type": "markdown",
   "metadata": {
    "id": "8idKy8Wh0q1L"
   },
   "source": [
    "### Mensajes"
   ]
  },
  {
   "cell_type": "code",
   "execution_count": null,
   "metadata": {
    "id": "NXLxiTit0q1L"
   },
   "outputs": [],
   "source": [
    "# Comprara numero de mensajes por mes\n",
    "\n",
    "avg_sms = (usage_monthly.groupby(['year_month', 'plan'], as_index=False)['sms_count']\n",
    "          .mean())\n",
    "avg_sms_pivot = avg_sms.pivot(index='year_month', columns='plan', values='sms_count').fillna(0)\n",
    "ax = avg_sms_pivot.plot(kind='bar', figsize=(12,5))\n",
    "ax.set_ylabel('SMS por usuario (promedio)')\n",
    "ax.set_title('SMS promedio por plan y por mes')\n",
    "plt.xticks(rotation=45)\n",
    "plt.tight_layout()\n",
    "plt.show()\n",
    "\n"
   ]
  },
  {
   "cell_type": "code",
   "execution_count": null,
   "metadata": {
    "id": "GRI_R7xF0q1L"
   },
   "outputs": [],
   "source": [
    "# Histograma de SMS mensuales por plan\n",
    "\n",
    "plt.figure(figsize=(10,5))\n",
    "for p in ['surf', 'ultimate']:\n",
    "    subset = usage_monthly.loc[usage_monthly['plan']==p, 'sms_count']\n",
    "    plt.hist(subset, bins=30, alpha=0.6, label=p)\n",
    "plt.xlabel('SMS mensuales')\n",
    "plt.ylabel('Frecuencia')\n",
    "plt.title('Distribucion de SMS mensuales por plan')\n",
    "plt.legend()\n",
    "plt.tight_layout()\n",
    "plt.show()\n"
   ]
  },
  {
   "cell_type": "code",
   "execution_count": null,
   "metadata": {
    "id": "dtFwCGAp0q1M"
   },
   "outputs": [],
   "source": [
    "# Estadisticas de SMS por plan\n",
    "\n",
    "sms_stats = (usage_monthly.groupby('plan')['sms_count']\n",
    "            .agg(mean='mean', var='var', std='std', count='count'))\n",
    "print('Estadisticas de SMS mensuales por plan:\\n', sms_stats, '\\n')"
   ]
  },
  {
   "cell_type": "markdown",
   "metadata": {
    "id": "390SSL480q1M"
   },
   "source": [
    "para los SMS se ve que el pormedio mensual algo mayor en Ultimate, surf 31.16 vs ultimate 37.55, variacion del 6.4, la dispersion tambien es muy similar, para la implicacion de tarifa ambos promedios estan muy por debajo de los limites para el excedente son muy poco probables. "
   ]
  },
  {
   "cell_type": "markdown",
   "metadata": {
    "id": "42YSypXz0q1M"
   },
   "source": [
    "### Internet"
   ]
  },
  {
   "cell_type": "code",
   "execution_count": null,
   "metadata": {
    "id": "lSuKPtjh0q1M"
   },
   "outputs": [],
   "source": [
    "# Comprara el trafico de internet por mes\n",
    "\n",
    "avg_mb = (usage_monthly\n",
    "          .groupby(['year_month','plan'], as_index=False)['mb_sum']\n",
    "          .mean())\n",
    "avg_mb_pivot = avg_mb.pivot(index='year_month', columns='plan', values='mb_sum').fillna(0)\n",
    "ax = avg_mb_pivot.plot(kind='bar', figsize=(12,5))\n",
    "ax.set_ylabel('MB por usuario (promedio)')\n",
    "ax.set_title('Tráfico de Internet mensual (MB) por plan y por mes')\n",
    "plt.xticks(rotation=45)\n",
    "plt.tight_layout()\n",
    "plt.show()"
   ]
  },
  {
   "cell_type": "code",
   "execution_count": null,
   "metadata": {
    "id": "wnh8jYXi0q1N"
   },
   "outputs": [],
   "source": [
    "# Histograma de tráfico mensual MB por plan\n",
    "\n",
    "plt.figure(figsize=(10,5))\n",
    "for p in ['surf','ultimate']:\n",
    "    subset = usage_monthly.loc[usage_monthly['plan']==p, 'mb_sum']\n",
    "    plt.hist(subset, bins=30, alpha=0.6, label=p)\n",
    "plt.xlabel('MB mensuales (suma)')\n",
    "plt.ylabel('Frecuencia')\n",
    "plt.title('Distribución de tráfico mensual (MB) por plan')\n",
    "plt.legend()\n",
    "plt.tight_layout()\n",
    "plt.show()"
   ]
  },
  {
   "cell_type": "code",
   "execution_count": null,
   "metadata": {
    "id": "5VlyJ9ry0q1N"
   },
   "outputs": [],
   "source": [
    "# Estadísticos de tráfico (MB) por plan\n",
    "\n",
    "internet_stats = (usage_monthly\n",
    "                  .groupby('plan')['mb_sum']\n",
    "                  .agg(mean='mean', var='var', std='std', count='count'))\n",
    "print('Estadísticos de tráfico mensual (MB) por plan:\\n', internet_stats, '\\n')"
   ]
  },
  {
   "cell_type": "markdown",
   "metadata": {
    "id": "UN9zwuMP0q1N"
   },
   "source": [
    "El promedio mensual es mayor en Ultimate, surf cuenta con 16.56 GB Vs ultimate con 17.21 GB, la dispersion tambien en muy similar 8 GB y la implicacion de la tarifa en surf se incluyen 15 los cuales casi simpre se superan en 1.56 GB con costo extra de $10 USD, para Ultimate que incluye 30 el promedio esta muy por debajo por lo que los excedentes son muy raros. en general se cuenta con mayor cantidad de datos de Surf lo cual implica mayor cantidad de usuarios o mas meses activos en surf, en cuanto a minutos y sms no parecen generar excedentes relevantes, pero los datos de surf al promediar mas de los 15 GB, probablemente aporta mas ingresis por excedentes de datos que Ultimate. "
   ]
  },
  {
   "cell_type": "markdown",
   "metadata": {
    "id": "tCijq3260q1N"
   },
   "source": [
    "## Ingreso"
   ]
  },
  {
   "cell_type": "code",
   "execution_count": null,
   "metadata": {
    "id": "tz-dq_V00q1O"
   },
   "outputs": [],
   "source": [
    "\n",
    "# Componentes de ingresos\n",
    "\n",
    "usage_monthly['rev_base'] = usage_monthly['usd_monthly_pay']\n",
    "usage_monthly['rev_min']  = usage_monthly['min_over'] * usage_monthly['usd_per_minute']\n",
    "usage_monthly['rev_sms']  = usage_monthly['sms_over'] * usage_monthly['usd_per_message']\n",
    "usage_monthly['rev_gb']   = usage_monthly['gb_over']  * usage_monthly['usd_per_gb']\n",
    "\n",
    "# Histograma de ingreso total por plan\n",
    "\n",
    "bins = np.histogram_bin_edges(usage_monthly['revenue_usd'], bins=30)\n",
    "surf = usage_monthly.loc[usage_monthly['plan']=='surf', 'revenue_usd']\n",
    "ult  = usage_monthly.loc[usage_monthly['plan']=='ultimate', 'revenue_usd']\n",
    "\n",
    "fig, axes = plt.subplots(1, 2, figsize=(12,4), sharex=True, sharey=True)\n",
    "axes[0].hist(surf, bins=bins)\n",
    "axes[0].axvline(surf.mean(), linestyle='--', linewidth=1.8)\n",
    "axes[0].set_title('Surf')\n",
    "axes[0].set_xlabel('USD'); axes[0].set_ylabel('Frecuencia')\n",
    "\n",
    "axes[1].hist(ult, bins=bins)\n",
    "axes[1].axvline(ult.mean(), linestyle='--', linewidth=1.8)\n",
    "axes[1].set_title('Ultimate')\n",
    "axes[1].set_xlabel('USD')\n",
    "\n",
    "fig.suptitle('Ingreso mensual por plan (distribuciones comparables)', y=1.02)\n",
    "plt.tight_layout()\n",
    "plt.show()\n",
    "\n",
    "\n"
   ]
  },
  {
   "cell_type": "code",
   "execution_count": null,
   "metadata": {
    "id": "0Y1v8ZUz0q1P"
   },
   "outputs": [],
   "source": [
    "# ingreso promedio por componentes y plan\n",
    "\n",
    "comp_means = (usage_monthly\n",
    "              .groupby('plan')[['rev_base','rev_min','rev_sms','rev_gb']]\n",
    "              .mean())\n",
    "ax = comp_means.plot(kind='bar', stacked=True, figsize=(10,5))\n",
    "ax.set_ylabel('USD (promedio por usuario-mes)')\n",
    "ax.set_title('Ingreso promedio por plan desglosado (base, minutos, SMS, GB)')\n",
    "plt.xticks(rotation=0); plt.tight_layout(); plt.show()"
   ]
  },
  {
   "cell_type": "code",
   "execution_count": null,
   "metadata": {
    "id": "bYmwxyVh0q1P"
   },
   "outputs": [],
   "source": [
    "# Promedio mensual de ingreso por plan \n",
    "\n",
    "avg_rev_month = (usage_monthly\n",
    "                 .groupby(['year_month','plan'], as_index=False)['revenue_usd']\n",
    "                 .mean())\n",
    "pivot_rev = avg_rev_month.pivot(index='year_month', columns='plan', values='revenue_usd').fillna(0)\n",
    "ax = pivot_rev.plot(kind='bar', figsize=(12,5))\n",
    "ax.set_ylabel('USD (promedio por usuario-mes)')\n",
    "ax.set_title('Ingreso mensual promedio por plan')\n",
    "plt.xticks(rotation=45); plt.tight_layout(); plt.show()\n",
    "\n",
    "# Estadisticas de ingreso por plan\n",
    "\n",
    "income_stats = (usage_monthly.groupby('plan')['revenue_usd'].agg(mean='mean', var='var', std='std', count='count'))\n",
    "\n",
    "print('Estadisticas de ingreso mensual por plan:\\n', income_stats)\n"
   ]
  },
  {
   "cell_type": "markdown",
   "metadata": {
    "id": "KAFidcXZ0q1P"
   },
   "source": [
    "Se verifica que Ultimate muestra un ingreso promedio por usuario-mes mayor de forma consistente en el tiempo, la base (cuota mensual) explica la mayor parte del ingreso de ultimate, en surf el peso relativo viene de los GB excedentes. minutos y SMS aportan poco a los ingresos, operativamente Ultimate maximiza el ingreso por usuario, surf genera ingreso por excedentes de datos si el uso supera los 15 GB, dicho ingreso puede en algun momento bajar cuando el usuario decida cambiar el plan"
   ]
  },
  {
   "cell_type": "markdown",
   "metadata": {
    "id": "ajJ7VKeI0q1Q"
   },
   "source": [
    "## Prueba las hipótesis estadísticas"
   ]
  },
  {
   "cell_type": "code",
   "execution_count": null,
   "metadata": {
    "id": "nFoPNlPq0q1R"
   },
   "outputs": [],
   "source": [
    "# Hipotesis 1: ingreso promedio Surf Vs Ultimate\n",
    "\n",
    "alpha = 0.05\n",
    "\n",
    "rev_surf = usage_monthly.loc[usage_monthly['plan']=='surf', 'revenue_usd'].dropna()\n",
    "rev_ult = usage_monthly.loc[usage_monthly['plan']=='ultimate', 'revenue_usd'].dropna()\n",
    "\n",
    "res_plans = st.ttest_ind(rev_ult, rev_surf, equal_var=False)  # Welch\n",
    "print('valor p (planes):', res_plans.pvalue)\n",
    "if res_plans.pvalue < alpha:\n",
    "    print('Rechazamos la hipótesis nula (ingresos distintos entre planes)')\n",
    "else:\n",
    "    print('No podemos rechazar la hipótesis nula (ingresos iguales entre planes)')\n"
   ]
  },
  {
   "cell_type": "code",
   "execution_count": null,
   "metadata": {
    "id": "Cqcj7wrZ0q1S"
   },
   "outputs": [],
   "source": [
    "# Hipotesis 2: ingreso promedio Ny-NJ vs otras regiones (Bilateral)\n",
    "\n",
    "alpha = 0.05\n",
    "\n",
    "rev_ny_nj = usage_monthly.loc[usage_monthly['is_ny_nj']==True,  'revenue_usd'].dropna()\n",
    "rev_otros = usage_monthly.loc[usage_monthly['is_ny_nj']==False, 'revenue_usd'].dropna()\n",
    "\n",
    "res_region = st.ttest_ind(rev_ny_nj, rev_otros, equal_var=False)  # Welch\n",
    "print('valor p (NY–NJ vs otras):', res_region.pvalue)\n",
    "if res_region.pvalue < alpha:\n",
    "    print('Rechazamos la hipótesis nula (ingresos distintos por región)')\n",
    "else:\n",
    "    print('No podemos rechazar la hipótesis nula (ingresos iguales por región)')\n",
    "\n",
    "\n"
   ]
  },
  {
   "cell_type": "markdown",
   "metadata": {
    "id": "bbTR8UQO0q1T"
   },
   "source": [
    "## Conclusión general\n",
    "\n",
    "Durante la preparación, convertimos todas las fechas a tipo datetime, filtramos exclusivamente 2018, eliminamos duplicados, validamos que user_id existiera en users, normalizamos los nombres de plan y corregimos incoherencias. Aplicamos exactamente las reglas de negocio: llamadas redondeadas por llamada al minuto superior y tráfico de Internet agregado por usuario-mes con redondeo mensual de MB a GB antes de facturar. A partir de ahí, construimos los ingresos mensuales como cuota base más excedentes de minutos, SMS y GB.\n",
    "\n",
    "En la descripción del uso, los minutos y los SMS resultaron muy por debajo de los límites incluidos en ambos planes, por lo que rara vez generan excedentes. En cambio, el tráfico de datos sí marca diferencias: los usuarios de Surf promedian 16.6 GB, por encima de los 15 GB incluidos, lo que implica excedentes frecuentes; en Ultimate el promedio 17.2 GB queda muy por debajo de los 30 GB, por lo que casi no hay cargos adicionales. En consecuencia, los ingresos de Ultimate se explican sobre todo por la cuota base, mientras que en Surf el componente relevante adicional proviene de GB excedentes.\n",
    "\n",
    "En las pruebas de hipótesis (t de Welch, alpha=0.05), comparamos el ingreso promedio por usuario-mes de Surf y Ultimate y obtuvimos p 3.17×10⁻¹⁵, por lo que rechazamos la hipótesis nula de igualdad: el ingreso promedio difiere y, por los descriptivos y gráficos, Ultimate genera más ingreso por usuario-mes. Al contrastar NY–NJ frente al resto del país, p 0.0335 también llevó a rechazar igualdad: existen diferencias regionales en el ingreso promedio (la dirección exacta se observa comparando las medias reportadas en el cuaderno).\n",
    "\n",
    "En resumen, Ultimate es el plan más rentable en promedio gracias a su ingreso base estable; Surf aporta ingresos por excedentes de datos cuando el uso supera 15 GB, pero no compensa la ventaja sistemática de la cuota de Ultimate. Estas conclusiones se basan en haber aplicado el recorte temporal a 2018, el redondeo conforme a las reglas y la agregación a nivel usuario-mes; además, la clasificación regional se basó en el texto de city, lo que puede hacer que los resultados dependan de cómo estén escritos los nombres de las ciudades/áreas."
   ]
  }
 ],
 "metadata": {
  "ExecuteTimeLog": [
   {
    "duration": 828,
    "start_time": "2021-11-16T09:21:11.304Z"
   },
   {
    "duration": 893,
    "start_time": "2021-11-16T09:21:17.728Z"
   },
   {
    "duration": 1150,
    "start_time": "2021-11-16T09:21:29.568Z"
   },
   {
    "duration": 3,
    "start_time": "2021-11-16T09:24:14.495Z"
   },
   {
    "duration": 120,
    "start_time": "2021-11-16T09:24:46.630Z"
   },
   {
    "duration": 3,
    "start_time": "2021-11-16T09:28:27.882Z"
   },
   {
    "duration": 4,
    "start_time": "2021-11-16T09:29:54.281Z"
   },
   {
    "duration": 3,
    "start_time": "2021-11-16T09:30:45.936Z"
   },
   {
    "duration": 4,
    "start_time": "2021-11-16T09:31:06.300Z"
   },
   {
    "duration": 113,
    "start_time": "2021-11-16T09:31:37.208Z"
   },
   {
    "duration": 143,
    "start_time": "2021-11-16T09:31:48.656Z"
   },
   {
    "duration": 98,
    "start_time": "2021-11-16T09:31:55.678Z"
   },
   {
    "duration": 3,
    "start_time": "2021-11-16T09:32:08.535Z"
   },
   {
    "duration": 111,
    "start_time": "2021-11-16T09:32:10.120Z"
   },
   {
    "duration": 3,
    "start_time": "2021-11-16T09:32:15.732Z"
   },
   {
    "duration": 4,
    "start_time": "2021-11-16T09:32:29.423Z"
   },
   {
    "duration": 3,
    "start_time": "2021-11-16T10:03:03.074Z"
   },
   {
    "duration": 3,
    "start_time": "2021-11-16T10:10:01.288Z"
   },
   {
    "duration": 3,
    "start_time": "2021-11-16T10:10:46.923Z"
   },
   {
    "duration": 121,
    "start_time": "2021-11-16T10:37:46.494Z"
   },
   {
    "duration": 125,
    "start_time": "2021-11-16T10:38:20.632Z"
   },
   {
    "duration": 112,
    "start_time": "2021-11-16T10:46:53.001Z"
   },
   {
    "duration": 110,
    "start_time": "2021-11-16T10:48:25.775Z"
   },
   {
    "duration": 3,
    "start_time": "2021-11-16T10:50:18.720Z"
   },
   {
    "duration": 4,
    "start_time": "2021-11-16T10:50:37.649Z"
   },
   {
    "duration": 2,
    "start_time": "2021-11-16T10:50:51.884Z"
   },
   {
    "duration": 3,
    "start_time": "2021-11-16T10:51:56.237Z"
   },
   {
    "duration": 101,
    "start_time": "2021-11-16T10:53:13.791Z"
   },
   {
    "duration": 3,
    "start_time": "2021-11-16T10:55:59.186Z"
   },
   {
    "duration": 3,
    "start_time": "2021-11-16T10:56:10.751Z"
   },
   {
    "duration": 3,
    "start_time": "2021-11-16T10:56:49.038Z"
   },
   {
    "duration": 3,
    "start_time": "2021-11-16T10:56:49.174Z"
   },
   {
    "duration": 4,
    "start_time": "2021-11-16T10:56:49.414Z"
   },
   {
    "duration": 3,
    "start_time": "2021-11-16T10:56:49.680Z"
   },
   {
    "duration": 3,
    "start_time": "2021-11-16T10:56:50.370Z"
   },
   {
    "duration": 114,
    "start_time": "2021-11-16T10:59:34.518Z"
   },
   {
    "duration": 3,
    "start_time": "2021-11-16T11:01:41.201Z"
   },
   {
    "duration": 116,
    "start_time": "2021-11-16T11:01:48.754Z"
   },
   {
    "duration": 3,
    "start_time": "2021-11-16T11:02:16.685Z"
   },
   {
    "duration": 3,
    "start_time": "2021-11-16T11:02:19.479Z"
   },
   {
    "duration": 3,
    "start_time": "2021-11-16T11:02:47.067Z"
   },
   {
    "duration": 3,
    "start_time": "2021-11-16T11:02:49.353Z"
   },
   {
    "duration": 3,
    "start_time": "2021-11-16T11:03:07.835Z"
   },
   {
    "duration": 3,
    "start_time": "2021-11-16T11:03:07.953Z"
   },
   {
    "duration": 112,
    "start_time": "2021-11-16T11:07:52.072Z"
   },
   {
    "duration": 187,
    "start_time": "2021-11-16T11:09:23.468Z"
   },
   {
    "duration": 4,
    "start_time": "2021-11-16T11:10:01.455Z"
   },
   {
    "duration": 3,
    "start_time": "2021-11-16T11:10:05.069Z"
   },
   {
    "duration": 4,
    "start_time": "2021-11-16T11:10:13.376Z"
   },
   {
    "duration": 3,
    "start_time": "2021-11-16T11:10:14.434Z"
   },
   {
    "duration": 3,
    "start_time": "2021-11-16T11:10:22.853Z"
   },
   {
    "duration": 4,
    "start_time": "2021-11-16T11:27:29.279Z"
   },
   {
    "duration": 4,
    "start_time": "2021-11-16T11:29:08.919Z"
   },
   {
    "duration": 118,
    "start_time": "2021-11-16T11:29:46.703Z"
   },
   {
    "duration": 437,
    "start_time": "2021-11-16T11:36:02.181Z"
   },
   {
    "duration": 157,
    "start_time": "2021-11-16T11:36:14.388Z"
   },
   {
    "duration": 207,
    "start_time": "2021-11-16T11:47:15.898Z"
   },
   {
    "duration": 3,
    "start_time": "2021-11-16T11:53:52.092Z"
   },
   {
    "duration": 3,
    "start_time": "2021-11-16T11:53:52.236Z"
   },
   {
    "duration": 3,
    "start_time": "2021-11-16T11:59:12.005Z"
   },
   {
    "duration": 112,
    "start_time": "2021-11-16T12:00:33.446Z"
   },
   {
    "duration": 3,
    "start_time": "2021-11-16T12:02:14.453Z"
   },
   {
    "duration": 3,
    "start_time": "2021-11-16T12:02:39.512Z"
   },
   {
    "duration": 106,
    "start_time": "2021-11-16T12:03:03.460Z"
   },
   {
    "duration": 3,
    "start_time": "2021-11-17T20:37:21.139Z"
   },
   {
    "duration": 3,
    "start_time": "2021-11-17T20:37:22.229Z"
   },
   {
    "duration": 3,
    "start_time": "2021-11-17T20:38:38.806Z"
   },
   {
    "duration": 3,
    "start_time": "2021-11-17T20:38:41.958Z"
   },
   {
    "duration": 3,
    "start_time": "2021-11-17T20:43:46.551Z"
   },
   {
    "duration": 4,
    "start_time": "2021-11-17T20:58:21.835Z"
   },
   {
    "duration": 3,
    "start_time": "2021-11-17T20:59:21.872Z"
   },
   {
    "duration": 4,
    "start_time": "2021-11-17T20:59:45.352Z"
   },
   {
    "duration": 4,
    "start_time": "2021-11-17T20:59:49.646Z"
   },
   {
    "duration": 159,
    "start_time": "2021-11-17T21:02:26.949Z"
   },
   {
    "duration": 3,
    "start_time": "2021-11-17T21:03:53.461Z"
   },
   {
    "duration": 3,
    "start_time": "2021-11-17T21:03:53.694Z"
   },
   {
    "duration": 3,
    "start_time": "2021-11-17T21:05:28.145Z"
   },
   {
    "duration": 116,
    "start_time": "2021-11-17T21:05:57.787Z"
   },
   {
    "duration": 3,
    "start_time": "2021-11-17T21:06:37.993Z"
   },
   {
    "duration": 3,
    "start_time": "2021-11-17T21:06:38.261Z"
   },
   {
    "duration": 3,
    "start_time": "2021-11-17T21:11:54.358Z"
   },
   {
    "duration": 3,
    "start_time": "2021-11-17T21:12:43.846Z"
   },
   {
    "duration": 4,
    "start_time": "2021-11-17T21:13:08.773Z"
   },
   {
    "duration": 3,
    "start_time": "2021-11-17T21:14:44.441Z"
   },
   {
    "duration": 3,
    "start_time": "2021-11-17T21:15:42.059Z"
   },
   {
    "duration": 4,
    "start_time": "2021-11-17T21:15:51.995Z"
   },
   {
    "duration": 3,
    "start_time": "2021-11-17T21:15:53.923Z"
   },
   {
    "duration": 3,
    "start_time": "2021-11-17T21:15:55.282Z"
   },
   {
    "duration": 3,
    "start_time": "2021-11-17T21:16:28.492Z"
   },
   {
    "duration": 3,
    "start_time": "2021-11-17T21:16:32.603Z"
   },
   {
    "duration": 3,
    "start_time": "2021-11-17T21:17:06.941Z"
   },
   {
    "duration": 98,
    "start_time": "2021-11-17T21:18:05.733Z"
   },
   {
    "duration": 4,
    "start_time": "2021-11-17T21:21:35.255Z"
   },
   {
    "duration": 3,
    "start_time": "2021-11-17T21:21:37.804Z"
   },
   {
    "duration": 4,
    "start_time": "2021-11-17T21:23:06.071Z"
   },
   {
    "duration": 3,
    "start_time": "2021-11-17T21:23:24.799Z"
   },
   {
    "duration": 3,
    "start_time": "2021-11-17T21:23:32.591Z"
   },
   {
    "duration": 98,
    "start_time": "2021-11-17T21:28:31.559Z"
   },
   {
    "duration": 3,
    "start_time": "2021-11-17T21:28:45.448Z"
   },
   {
    "duration": 3,
    "start_time": "2021-11-17T21:29:17.303Z"
   },
   {
    "duration": 3,
    "start_time": "2021-11-17T21:29:29.617Z"
   },
   {
    "duration": 3,
    "start_time": "2021-11-17T21:29:32.681Z"
   },
   {
    "duration": 3,
    "start_time": "2021-11-17T21:36:11.474Z"
   },
   {
    "duration": 3,
    "start_time": "2021-11-17T21:36:14.791Z"
   },
   {
    "duration": 3,
    "start_time": "2021-11-17T21:36:53.943Z"
   },
   {
    "duration": 3,
    "start_time": "2021-11-17T21:36:56.165Z"
   },
   {
    "duration": 4,
    "start_time": "2021-11-17T21:37:16.590Z"
   },
   {
    "duration": 3,
    "start_time": "2021-11-17T21:37:22.702Z"
   },
   {
    "duration": 4,
    "start_time": "2021-11-17T21:38:03.479Z"
   },
   {
    "duration": 3,
    "start_time": "2021-11-17T21:38:08.601Z"
   },
   {
    "duration": 3,
    "start_time": "2021-11-17T21:38:12.928Z"
   },
   {
    "duration": 3,
    "start_time": "2021-11-17T21:38:48.896Z"
   },
   {
    "duration": 2,
    "start_time": "2021-11-17T21:38:49.171Z"
   },
   {
    "duration": 4,
    "start_time": "2021-11-17T21:39:57.889Z"
   },
   {
    "duration": 3,
    "start_time": "2021-11-17T21:39:58.057Z"
   },
   {
    "duration": 3,
    "start_time": "2021-11-17T21:41:20.108Z"
   },
   {
    "duration": 3,
    "start_time": "2021-11-17T21:41:20.629Z"
   },
   {
    "duration": 3,
    "start_time": "2021-11-17T21:42:49.136Z"
   },
   {
    "duration": 3,
    "start_time": "2021-11-17T21:43:15.137Z"
   },
   {
    "duration": 4,
    "start_time": "2021-11-17T21:43:16.766Z"
   },
   {
    "duration": 4,
    "start_time": "2021-11-17T21:43:31.711Z"
   },
   {
    "duration": 3,
    "start_time": "2021-11-17T21:43:36.312Z"
   },
   {
    "duration": 4,
    "start_time": "2021-11-17T21:45:08.825Z"
   },
   {
    "duration": 4,
    "start_time": "2021-11-17T21:45:10.119Z"
   },
   {
    "duration": 4,
    "start_time": "2021-11-17T21:45:13.748Z"
   },
   {
    "duration": 3,
    "start_time": "2021-11-17T21:45:22.219Z"
   },
   {
    "duration": 3,
    "start_time": "2021-11-17T21:45:33.412Z"
   },
   {
    "duration": 2,
    "start_time": "2021-11-17T21:46:01.885Z"
   },
   {
    "duration": 3,
    "start_time": "2021-11-17T21:46:03.628Z"
   },
   {
    "duration": 107,
    "start_time": "2021-11-17T21:47:32.512Z"
   },
   {
    "duration": 103,
    "start_time": "2021-11-17T21:50:36.243Z"
   },
   {
    "duration": 3,
    "start_time": "2021-11-18T06:28:31.440Z"
   },
   {
    "duration": 3,
    "start_time": "2021-11-18T06:29:00.168Z"
   },
   {
    "duration": 3,
    "start_time": "2021-11-18T06:31:27.008Z"
   },
   {
    "duration": 2,
    "start_time": "2021-11-18T06:35:34.288Z"
   },
   {
    "duration": 2,
    "start_time": "2021-11-18T06:38:04.527Z"
   }
  ],
  "colab": {
   "provenance": []
  },
  "kernelspec": {
   "display_name": "Python 3 (ipykernel)",
   "language": "python",
   "name": "python3"
  },
  "language_info": {
   "codemirror_mode": {
    "name": "ipython",
    "version": 3
   },
   "file_extension": ".py",
   "mimetype": "text/x-python",
   "name": "python",
   "nbconvert_exporter": "python",
   "pygments_lexer": "ipython3",
   "version": "3.9.23"
  },
  "toc": {
   "base_numbering": 1,
   "nav_menu": {},
   "number_sections": true,
   "sideBar": true,
   "skip_h1_title": false,
   "title_cell": "Table of Contents",
   "title_sidebar": "Contents",
   "toc_cell": false,
   "toc_position": {},
   "toc_section_display": true,
   "toc_window_display": true
  }
 },
 "nbformat": 4,
 "nbformat_minor": 4
}
